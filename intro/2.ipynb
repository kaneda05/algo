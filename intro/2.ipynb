{
 "cells": [
  {
   "cell_type": "markdown",
   "metadata": {},
   "source": [
    "### 値を管理する (変数とリスト)"
   ]
  },
  {
   "cell_type": "code",
   "execution_count": 1,
   "metadata": {},
   "outputs": [
    {
     "name": "stdout",
     "output_type": "stream",
     "text": [
      "14940\n"
     ]
    }
   ],
   "source": [
    "price = 4980 # 品物の 1 つあたりの価格\n",
    "print(price * 3) # 3 つ買った場合の価格を出力"
   ]
  },
  {
   "cell_type": "code",
   "execution_count": null,
   "metadata": {},
   "outputs": [],
   "source": [
    "name = \"aruru\" # 変数 name に \"aruru\" を代入\n",
    "print(f\"My name is {name}!\") # name を用いた自己紹介を表示"
   ]
  },
  {
   "cell_type": "code",
   "execution_count": null,
   "metadata": {},
   "outputs": [],
   "source": [
    "DAY_OF_WEEKS = [\"Sunday\", \"Monday\", \"Tuesday\", \"Wednesday\", \"Thursday\", \"Friday\", \"Saturday\"]\n",
    "\n",
    "print(DAY_OF_WEEKS[0])\n",
    "print(DAY_OF_WEEKS[3])\n",
    "print(DAY_OF_WEEKS[-1])"
   ]
  },
  {
   "cell_type": "code",
   "execution_count": null,
   "metadata": {},
   "outputs": [],
   "source": [
    "S = \"programming\"\n",
    "s = S[0]+S[-1]\n",
    "print(s) # ここに答えとなるコードを書いてください"
   ]
  },
  {
   "cell_type": "code",
   "execution_count": null,
   "metadata": {},
   "outputs": [],
   "source": [
    "A = [\"Hello\", \"Algo\"]\n",
    "B = [\"SUN\", \"MON\", \"TUE\", \"WED\", \"TSU\", \"FRI\", \"SAT\"]\n",
    "C = [3, 1, 4, 1, 5, 9, 2, 6, 5, 3, 5]\n",
    "\n",
    "A.append(\"Method\")\n",
    "print(A)\n",
    "print(len(B))\n",
    "C.sort()\n",
    "print(C)"
   ]
  }
 ],
 "metadata": {
  "interpreter": {
   "hash": "a665b5d41d17b532ea9890333293a1b812fa0b73c9c25c950b3cedf1bebd0438"
  },
  "kernelspec": {
   "display_name": "Python 3.9.16 64-bit",
   "name": "python3"
  },
  "language_info": {
   "codemirror_mode": {
    "name": "ipython",
    "version": 3
   },
   "file_extension": ".py",
   "mimetype": "text/x-python",
   "name": "python",
   "nbconvert_exporter": "python",
   "pygments_lexer": "ipython3",
   "version": "3.9.16"
  },
  "orig_nbformat": 4
 },
 "nbformat": 4,
 "nbformat_minor": 2
}
